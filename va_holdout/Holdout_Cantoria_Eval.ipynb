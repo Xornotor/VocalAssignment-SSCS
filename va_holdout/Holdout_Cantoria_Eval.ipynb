{
 "cells": [
  {
   "cell_type": "markdown",
   "metadata": {},
   "source": [
    "# **Cantoría Evaluation - Holdout**\n",
    "\n",
    "Developed by André Paiva\n",
    "\n",
    "Based on Cantoría Dataset and papers by Helena Cuesta and Emilia Gómez"
   ]
  },
  {
   "cell_type": "code",
   "execution_count": null,
   "metadata": {},
   "outputs": [],
   "source": [
    "import sys\n",
    "import numpy as np\n",
    "import pandas as pd\n",
    "import va_plots\n",
    "import cantoria_utils\n",
    "\n",
    "np.set_printoptions(threshold=sys.maxsize)"
   ]
  },
  {
   "cell_type": "code",
   "execution_count": null,
   "metadata": {},
   "outputs": [],
   "source": [
    "mix_df, sop_df, alto_df, ten_df, bass_df = cantoria_utils.compute_holdout_metrics(1)\n",
    "model_name = 'MaskVoasCNNv2'"
   ]
  },
  {
   "cell_type": "code",
   "execution_count": null,
   "metadata": {},
   "outputs": [],
   "source": [
    "va_plots.evaluation_boxplots(sop_df, alto_df, ten_df, bass_df, model_name)"
   ]
  },
  {
   "cell_type": "code",
   "execution_count": null,
   "metadata": {},
   "outputs": [],
   "source": [
    "va_plots.voicing_boxplots(sop_df, alto_df, ten_df, bass_df, model_name)"
   ]
  },
  {
   "cell_type": "code",
   "execution_count": null,
   "metadata": {},
   "outputs": [],
   "source": [
    "print(mix_df['Precision'].median(), mix_df['Precision'].std())\n",
    "print(mix_df['Recall'].median(), mix_df['Recall'].std())\n",
    "print(mix_df['Accuracy'].median(), mix_df['Accuracy'].std())\n",
    "print(mix_df['F-Measure'].median(), mix_df['F-Measure'].std())"
   ]
  },
  {
   "cell_type": "code",
   "execution_count": null,
   "metadata": {},
   "outputs": [],
   "source": [
    "sop_hcb = sop_df[['Raw Pitch Accuracy', 'Overall Accuracy', 'Precision', 'Recall', 'Accuracy', 'F-Measure']].loc[['HCB']]\n",
    "alto_hcb = alto_df[['Raw Pitch Accuracy', 'Overall Accuracy', 'Precision', 'Recall', 'Accuracy', 'F-Measure']].loc[['HCB']]\n",
    "ten_hcb = ten_df[['Raw Pitch Accuracy', 'Overall Accuracy', 'Precision', 'Recall', 'Accuracy', 'F-Measure']].loc[['HCB']]\n",
    "bass_hcb = bass_df[['Raw Pitch Accuracy', 'Overall Accuracy', 'Precision', 'Recall', 'Accuracy', 'F-Measure']].loc[['HCB']]\n",
    "\n",
    "hcb_metrics = pd.concat([sop_hcb, alto_hcb, ten_hcb, bass_hcb])\n",
    "hcb_metrics.insert(0, 'Voice', ['Soprano', 'Alto', 'Tenor', 'Bass'])\n",
    "hcb_metrics = hcb_metrics.set_index('Voice')\n",
    "hcb_metrics"
   ]
  },
  {
   "cell_type": "code",
   "execution_count": null,
   "metadata": {},
   "outputs": [],
   "source": [
    "sop_df"
   ]
  },
  {
   "cell_type": "code",
   "execution_count": null,
   "metadata": {},
   "outputs": [],
   "source": [
    "alto_df"
   ]
  },
  {
   "cell_type": "code",
   "execution_count": null,
   "metadata": {},
   "outputs": [],
   "source": [
    "ten_df"
   ]
  },
  {
   "cell_type": "code",
   "execution_count": null,
   "metadata": {},
   "outputs": [],
   "source": [
    "bass_df"
   ]
  }
 ],
 "metadata": {
  "kernelspec": {
   "display_name": "Python 3 (ipykernel)",
   "language": "python",
   "name": "python3"
  },
  "language_info": {
   "codemirror_mode": {
    "name": "ipython",
    "version": 3
   },
   "file_extension": ".py",
   "mimetype": "text/x-python",
   "name": "python",
   "nbconvert_exporter": "python",
   "pygments_lexer": "ipython3",
   "version": "3.8.10"
  }
 },
 "nbformat": 4,
 "nbformat_minor": 4
}
