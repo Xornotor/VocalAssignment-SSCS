{
  "cells": [
    {
      "attachments": {},
      "cell_type": "markdown",
      "metadata": {
        "id": "qPqelqw7u6NR"
      },
      "source": [
        "# **SSCS - Training**\n",
        "\n",
        "Developed by André Paiva\n",
        "\n",
        "Based on SSCS Dataset created by Helena Cuesta and Emilia Gómez"
      ]
    },
    {
      "attachments": {},
      "cell_type": "markdown",
      "metadata": {},
      "source": [
        "## 1 - Initialization"
      ]
    },
    {
      "cell_type": "code",
      "execution_count": null,
      "metadata": {
        "colab": {
          "base_uri": "https://localhost:8080/"
        },
        "id": "g9JbTeigu6NY",
        "outputId": "202f4bd1-8c57-4cfb-ec2a-180e7c374a25"
      },
      "outputs": [],
      "source": [
        "import numpy as np\n",
        "import tensorflow as tf\n",
        "import sscs"
      ]
    },
    {
      "cell_type": "code",
      "execution_count": null,
      "metadata": {},
      "outputs": [],
      "source": [
        "#Model Type: 0 = VoasCNN, 1 = Downsample, 2 = Mask, 3 = MaskV2, 4 = DownsampleV2\n",
        "MODEL_TYPE = 4\n",
        "TRAINING_NUMBER = 1\n",
        "SAVE_MODEL = True\n",
        "LOAD_MODEL = False\n",
        "TRAIN_MODEL = True\n",
        "MODEL_SUMMARY = False\n",
        "L_RATE = 5e-3\n",
        "EPOCHS = 30\n",
        "\n",
        "F_SCORE_PRECOMPUTE = True\n",
        "F_SCORE_LOAD = False\n",
        "F_SCORE_PLOTS = True"
      ]
    },
    {
      "attachments": {},
      "cell_type": "markdown",
      "metadata": {
        "id": "DIXMHFZju6Nl"
      },
      "source": [
        "## 2 - Download and extract dataset SSCS"
      ]
    },
    {
      "cell_type": "code",
      "execution_count": null,
      "metadata": {
        "colab": {
          "base_uri": "https://localhost:8080/"
        },
        "id": "VjQMk_4pu6Nm",
        "outputId": "0dd6b5b2-6cfc-4678-d01b-3a4687f560c4"
      },
      "outputs": [],
      "source": [
        "sscs.download()"
      ]
    },
    {
      "attachments": {},
      "cell_type": "markdown",
      "metadata": {
        "id": "ZoVmVETou6Np"
      },
      "source": [
        "## 3 - Model (Training/Loading)"
      ]
    },
    {
      "cell_type": "code",
      "execution_count": null,
      "metadata": {},
      "outputs": [],
      "source": [
        "ds_train = sscs.get_dataset(split='train', end_index=1000)\n",
        "ds_val = sscs.get_dataset(split='validate', end_index=300)\n",
        "ds_test = sscs.get_dataset(split='test', end_index=300)"
      ]
    },
    {
      "cell_type": "code",
      "execution_count": null,
      "metadata": {},
      "outputs": [],
      "source": [
        "if (MODEL_TYPE == 0):\n",
        "    ckpt_dir = './Checkpoints/voas_treino' + str(TRAINING_NUMBER) + '.keras'\n",
        "    model = sscs.voas_cnn_model(l_rate = L_RATE)\n",
        "    log_folder = 'voas_cnn'\n",
        "elif (MODEL_TYPE == 1):\n",
        "    ckpt_dir = './Checkpoints/downsample_voas_treino' + str(TRAINING_NUMBER) + '.keras'\n",
        "    model = sscs.downsample_voas_cnn_model(l_rate = L_RATE)\n",
        "    log_folder = 'downsample_voas_cnn'\n",
        "elif (MODEL_TYPE == 2):\n",
        "    ckpt_dir = './Checkpoints/mask_voas_treino' + str(TRAINING_NUMBER) + '.keras'\n",
        "    model = sscs.mask_voas_cnn_model(l_rate = L_RATE)\n",
        "    log_folder = 'mask_voas_cnn'\n",
        "elif (MODEL_TYPE == 3):\n",
        "    ckpt_dir = './Checkpoints/mask_voas_v2_treino' + str(TRAINING_NUMBER) + '.keras'\n",
        "    model = sscs.mask_voas_cnn_v2_model(l_rate = L_RATE)\n",
        "    log_folder = 'mask_voas_v2'\n",
        "elif (MODEL_TYPE == 4):\n",
        "    ckpt_dir = './Checkpoints/downsample_voas_v2_treino' + str(TRAINING_NUMBER) + '.keras'\n",
        "    model = sscs.downsample_voas_cnn_v2_model(l_rate = L_RATE)\n",
        "    log_folder = 'downsample_voas_v2'\n",
        "else:\n",
        "    ckpt_dir = './Checkpoints/voas_treino' + str(TRAINING_NUMBER) + '.keras'\n",
        "    model = sscs.voas_cnn_model(l_rate = L_RATE)\n",
        "    log_folder = 'voas_cnn'\n",
        "\n",
        "f_score_dir = './Evaluation_Data/' + log_folder + '_f-scores_treino' + str(TRAINING_NUMBER) + '.npy'\n",
        "\n",
        "if MODEL_SUMMARY:\n",
        "    print(model.summary())"
      ]
    },
    {
      "cell_type": "code",
      "execution_count": null,
      "metadata": {},
      "outputs": [],
      "source": [
        "if LOAD_MODEL:\n",
        "    sscs.load_weights(model, ckpt_dir=ckpt_dir)\n",
        "\n",
        "if TRAIN_MODEL:\n",
        "    sscs.train(model, ds_train, ds_val, epochs=EPOCHS, save_model=SAVE_MODEL,\n",
        "               ckpt_dir=ckpt_dir, log_folder=log_folder)  "
      ]
    },
    {
      "attachments": {},
      "cell_type": "markdown",
      "metadata": {},
      "source": [
        "## 4 - Evaluation with F-Score"
      ]
    },
    {
      "cell_type": "code",
      "execution_count": null,
      "metadata": {},
      "outputs": [],
      "source": [
        "if(F_SCORE_PRECOMPUTE):\n",
        "    f_scores = sscs.f_score_test_precompute(model, save_dir=f_score_dir)\n",
        "\n",
        "if(F_SCORE_LOAD):\n",
        "    f_scores = np.load(f_score_dir)"
      ]
    },
    {
      "cell_type": "code",
      "execution_count": null,
      "metadata": {},
      "outputs": [],
      "source": [
        "if(F_SCORE_PLOTS):\n",
        "    sscs.joint_f_histograms(f_scores, title=model.name)"
      ]
    },
    {
      "cell_type": "code",
      "execution_count": null,
      "metadata": {},
      "outputs": [],
      "source": [
        "if(F_SCORE_PLOTS):\n",
        "    sscs.voice_f_histograms(f_scores, title=model.name)"
      ]
    },
    {
      "cell_type": "code",
      "execution_count": null,
      "metadata": {},
      "outputs": [],
      "source": [
        "if(F_SCORE_PLOTS):\n",
        "    sscs.boxplot(f_scores, title=model.name)"
      ]
    },
    {
      "attachments": {},
      "cell_type": "markdown",
      "metadata": {},
      "source": [
        "## 5 - Visualizing the \"mask\" (only for mask implementations)"
      ]
    },
    {
      "cell_type": "code",
      "execution_count": null,
      "metadata": {},
      "outputs": [],
      "source": [
        "print(len(model.layers))"
      ]
    },
    {
      "cell_type": "code",
      "execution_count": null,
      "metadata": {},
      "outputs": [],
      "source": [
        "if(MODEL_TYPE == 2 or MODEL_TYPE == 3):\n",
        "    upscale_layer = -1\n",
        "\n",
        "    for i in range(len(model.layers)):\n",
        "        if model.layers[i].name == 'upscale':\n",
        "            upscale_layer = i\n",
        "            break\n",
        "\n",
        "    mask_activations    = tf.keras.models.Model(inputs=model.inputs,\n",
        "                                                outputs=[   model.layers[upscale_layer].output,\n",
        "                                                            model.layers[upscale_layer + 1].output])\n",
        "\n",
        "    #mask_activations.summary()\n",
        "\n",
        "    rand_song = sscs.pick_random_song(split='test')\n",
        "    mix, s, a, t, b = sscs.read_all_voice_splits(rand_song)\n",
        "\n",
        "    upscale, mask = mask_activations.predict(mix)\n",
        "    upscale = np.moveaxis(upscale, 0, 1).reshape(360, -1, 16)\n",
        "    mask = np.moveaxis(mask, 0, 1).reshape(360, -1, 16)\n",
        "    mix = np.moveaxis(mix, 0, 1).reshape(360, -1)\n",
        "    s = np.moveaxis(s, 0, 1).reshape(360, -1)\n",
        "    a = np.moveaxis(a, 0, 1).reshape(360, -1)\n",
        "    t = np.moveaxis(t, 0, 1).reshape(360, -1)\n",
        "    b = np.moveaxis(b, 0, 1).reshape(360, -1)"
      ]
    },
    {
      "cell_type": "code",
      "execution_count": null,
      "metadata": {},
      "outputs": [],
      "source": [
        "if(MODEL_TYPE == 2 or MODEL_TYPE == 3):\n",
        "    idx = 11\n",
        "    sscs.plot(upscale[:, :, idx], colorbar=True, title='Upscaled low-res information')\n",
        "    sscs.plot(mask[:, :, idx], colorbar=True, title='Masking (multiply layer)')\n",
        "    sscs.plot(mix, colorbar=True, title='Original input')"
      ]
    },
    {
      "attachments": {},
      "cell_type": "markdown",
      "metadata": {},
      "source": [
        "## 6 - Playground"
      ]
    },
    {
      "cell_type": "code",
      "execution_count": null,
      "metadata": {
        "colab": {
          "background_save": true
        },
        "id": "B2MZ_3ghu6Nq",
        "outputId": "6c700708-f12a-4682-fd4e-b108ebae4493"
      },
      "outputs": [],
      "source": [
        "sscs.playground(model)"
      ]
    }
  ],
  "metadata": {
    "accelerator": "GPU",
    "colab": {
      "provenance": []
    },
    "kernelspec": {
      "display_name": "Python 3",
      "name": "python3"
    },
    "language_info": {
      "codemirror_mode": {
        "name": "ipython",
        "version": 3
      },
      "file_extension": ".py",
      "mimetype": "text/x-python",
      "name": "python",
      "nbconvert_exporter": "python",
      "pygments_lexer": "ipython3",
      "version": "3.11.3"
    }
  },
  "nbformat": 4,
  "nbformat_minor": 0
}
