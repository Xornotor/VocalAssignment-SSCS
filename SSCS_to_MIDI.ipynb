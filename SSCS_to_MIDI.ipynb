{
 "cells": [
  {
   "attachments": {},
   "cell_type": "markdown",
   "metadata": {},
   "source": [
    "# **SSCS to MIDI**\n",
    "\n",
    "Developed by André Paiva\n",
    "\n",
    "Based on SSCS Dataset created by Helena Cuesta and Emilia Gómez"
   ]
  },
  {
   "cell_type": "code",
   "execution_count": 1,
   "metadata": {},
   "outputs": [],
   "source": [
    "EXECUTE_ON_COLAB = False"
   ]
  },
  {
   "cell_type": "code",
   "execution_count": 2,
   "metadata": {},
   "outputs": [],
   "source": [
    "import os\n",
    "import pandas as pd\n",
    "import h5py\n",
    "import json\n",
    "import mido\n",
    "import zipfile\n",
    "import tables\n",
    "import requests\n",
    "import numpy as np\n",
    "import matplotlib as mpl\n",
    "import matplotlib.pyplot as plt\n",
    "\n",
    "if(EXECUTE_ON_COLAB):\n",
    "    from google.colab import drive\n",
    "    drive.mount('/content/drive')"
   ]
  },
  {
   "cell_type": "code",
   "execution_count": 3,
   "metadata": {},
   "outputs": [
    {
     "name": "stderr",
     "output_type": "stream",
     "text": [
      "2023-06-08 22:54:28,947\tINFO worker.py:1625 -- Started a local Ray instance.\n"
     ]
    },
    {
     "data": {
      "text/html": [
       "<div>\n",
       "    <div style=\"margin-left: 50px;display: flex;flex-direction: row;align-items: center\">\n",
       "        <h3 style=\"color: var(--jp-ui-font-color0)\">Ray</h3>\n",
       "        <svg version=\"1.1\" id=\"ray\" width=\"3em\" viewBox=\"0 0 144.5 144.6\" style=\"margin-left: 3em;margin-right: 3em\">\n",
       "            <g id=\"layer-1\">\n",
       "                <path fill=\"#00a2e9\" class=\"st0\" d=\"M97.3,77.2c-3.8-1.1-6.2,0.9-8.3,5.1c-3.5,6.8-9.9,9.9-17.4,9.6S58,88.1,54.8,81.2c-1.4-3-3-4-6.3-4.1\n",
       "                    c-5.6-0.1-9.9,0.1-13.1,6.4c-3.8,7.6-13.6,10.2-21.8,7.6C5.2,88.4-0.4,80.5,0,71.7c0.1-8.4,5.7-15.8,13.8-18.2\n",
       "                    c8.4-2.6,17.5,0.7,22.3,8c1.3,1.9,1.3,5.2,3.6,5.6c3.9,0.6,8,0.2,12,0.2c1.8,0,1.9-1.6,2.4-2.8c3.5-7.8,9.7-11.8,18-11.9\n",
       "                    c8.2-0.1,14.4,3.9,17.8,11.4c1.3,2.8,2.9,3.6,5.7,3.3c1-0.1,2,0.1,3,0c2.8-0.5,6.4,1.7,8.1-2.7s-2.3-5.5-4.1-7.5\n",
       "                    c-5.1-5.7-10.9-10.8-16.1-16.3C84,38,81.9,37.1,78,38.3C66.7,42,56.2,35.7,53,24.1C50.3,14,57.3,2.8,67.7,0.5\n",
       "                    C78.4-2,89,4.7,91.5,15.3c0.1,0.3,0.1,0.5,0.2,0.8c0.7,3.4,0.7,6.9-0.8,9.8c-1.7,3.2-0.8,5,1.5,7.2c6.7,6.5,13.3,13,19.8,19.7\n",
       "                    c1.8,1.8,3,2.1,5.5,1.2c9.1-3.4,17.9-0.6,23.4,7c4.8,6.9,4.6,16.1-0.4,22.9c-5.4,7.2-14.2,9.9-23.1,6.5c-2.3-0.9-3.5-0.6-5.1,1.1\n",
       "                    c-6.7,6.9-13.6,13.7-20.5,20.4c-1.8,1.8-2.5,3.2-1.4,5.9c3.5,8.7,0.3,18.6-7.7,23.6c-7.9,5-18.2,3.8-24.8-2.9\n",
       "                    c-6.4-6.4-7.4-16.2-2.5-24.3c4.9-7.8,14.5-11,23.1-7.8c3,1.1,4.7,0.5,6.9-1.7C91.7,98.4,98,92.3,104.2,86c1.6-1.6,4.1-2.7,2.6-6.2\n",
       "                    c-1.4-3.3-3.8-2.5-6.2-2.6C99.8,77.2,98.9,77.2,97.3,77.2z M72.1,29.7c5.5,0.1,9.9-4.3,10-9.8c0-0.1,0-0.2,0-0.3\n",
       "                    C81.8,14,77,9.8,71.5,10.2c-5,0.3-9,4.2-9.3,9.2c-0.2,5.5,4,10.1,9.5,10.3C71.8,29.7,72,29.7,72.1,29.7z M72.3,62.3\n",
       "                    c-5.4-0.1-9.9,4.2-10.1,9.7c0,0.2,0,0.3,0,0.5c0.2,5.4,4.5,9.7,9.9,10c5.1,0.1,9.9-4.7,10.1-9.8c0.2-5.5-4-10-9.5-10.3\n",
       "                    C72.6,62.3,72.4,62.3,72.3,62.3z M115,72.5c0.1,5.4,4.5,9.7,9.8,9.9c5.6-0.2,10-4.8,10-10.4c-0.2-5.4-4.6-9.7-10-9.7\n",
       "                    c-5.3-0.1-9.8,4.2-9.9,9.5C115,72.1,115,72.3,115,72.5z M19.5,62.3c-5.4,0.1-9.8,4.4-10,9.8c-0.1,5.1,5.2,10.4,10.2,10.3\n",
       "                    c5.6-0.2,10-4.9,9.8-10.5c-0.1-5.4-4.5-9.7-9.9-9.6C19.6,62.3,19.5,62.3,19.5,62.3z M71.8,134.6c5.9,0.2,10.3-3.9,10.4-9.6\n",
       "                    c0.5-5.5-3.6-10.4-9.1-10.8c-5.5-0.5-10.4,3.6-10.8,9.1c0,0.5,0,0.9,0,1.4c-0.2,5.3,4,9.8,9.3,10\n",
       "                    C71.6,134.6,71.7,134.6,71.8,134.6z\"/>\n",
       "            </g>\n",
       "        </svg>\n",
       "        <table>\n",
       "            <tr>\n",
       "                <td style=\"text-align: left\"><b>Python version:</b></td>\n",
       "                <td style=\"text-align: left\"><b>3.10.11</b></td>\n",
       "            </tr>\n",
       "            <tr>\n",
       "                <td style=\"text-align: left\"><b>Ray version:</b></td>\n",
       "                <td style=\"text-align: left\"><b> 2.4.0</b></td>\n",
       "            </tr>\n",
       "            \n",
       "        </table>\n",
       "    </div>\n",
       "</div>\n"
      ],
      "text/plain": [
       "RayContext(dashboard_url='', python_version='3.10.11', ray_version='2.4.0', ray_commit='4479f66d4db967d3c9dd0af2572061276ba926ba', address_info={'node_ip_address': '127.0.0.1', 'raylet_ip_address': '127.0.0.1', 'redis_address': None, 'object_store_address': 'tcp://127.0.0.1:64797', 'raylet_socket_name': 'tcp://127.0.0.1:62816', 'webui_url': '', 'session_dir': 'C:\\\\Users\\\\andre\\\\AppData\\\\Local\\\\Temp\\\\ray\\\\session_2023-06-08_22-54-26_975599_3020', 'metrics_export_port': 61935, 'gcs_address': '127.0.0.1:62093', 'address': '127.0.0.1:62093', 'dashboard_agent_listen_port': 52365, 'node_id': '25c6c9a8f87ef48208544500f7617c5b771b0c4737abd512134777e5'})"
      ]
     },
     "execution_count": 3,
     "metadata": {},
     "output_type": "execute_result"
    }
   ],
   "source": [
    "import ray\n",
    "\n",
    "ray.init(ignore_reinit_error=True)"
   ]
  },
  {
   "attachments": {},
   "cell_type": "markdown",
   "metadata": {},
   "source": [
    "## 1 - Auxiliar functions and Variables"
   ]
  },
  {
   "attachments": {},
   "cell_type": "markdown",
   "metadata": {},
   "source": [
    "### 1.1 - File path variables"
   ]
  },
  {
   "cell_type": "code",
   "execution_count": 4,
   "metadata": {},
   "outputs": [],
   "source": [
    "if(EXECUTE_ON_COLAB):\n",
    "    dataset_dir = \"/content/Datasets/\"\n",
    "    checkpoint_dir = \"/content/drive/MyDrive/SSCS/Checkpoints/sscs.ckpt\"\n",
    "else:\n",
    "    dataset_dir = \"Datasets/\"\n",
    "    checkpoint_dir = \"Checkpoints/sscs.ckpt\"\n",
    "zipname = dataset_dir + \"SSCS_HDF5.zip\"\n",
    "sscs_dir = dataset_dir + \"SSCS_HDF5/\"\n",
    "\n",
    "songs_dir = sscs_dir + \"sscs/\"\n",
    "splitname = sscs_dir + \"sscs_splits.json\"\n",
    "\n",
    "midi_dir = \"./MIDI/midi_file.mid\""
   ]
  },
  {
   "attachments": {},
   "cell_type": "markdown",
   "metadata": {},
   "source": [
    "### 1.2 - Download/Extract Scripts"
   ]
  },
  {
   "cell_type": "code",
   "execution_count": 5,
   "metadata": {},
   "outputs": [],
   "source": [
    "def download(url, fname):\n",
    "    \n",
    "    resp = requests.get(url, stream=True)\n",
    "    total = int(resp.headers.get('content-length', 0))\n",
    "    downloaded_size = 0\n",
    "    with open(fname, 'wb') as file:\n",
    "        for data in resp.iter_content(chunk_size=max(4096, int(total/10000))):\n",
    "            size = file.write(data)\n",
    "            downloaded_size += size\n",
    "            percent = min(downloaded_size/total, 1.0)\n",
    "            print(f\"\\r{percent:.2%} downloaded\", end='')\n",
    "            \n",
    "    print()"
   ]
  },
  {
   "cell_type": "code",
   "execution_count": 6,
   "metadata": {},
   "outputs": [],
   "source": [
    "def sscs_download():\n",
    "    \n",
    "    if(not os.path.exists(dataset_dir)):\n",
    "        os.mkdir(dataset_dir)\n",
    "   \n",
    "    if(not os.path.exists(zipname)):\n",
    "        print(\"Downloading SSCS Dataset...\")\n",
    "        url = \"https://github.com/Xornotor/SSCS_HDF5/releases/download/v1.0/SSCS_HDF5.zip\"\n",
    "        download(url, zipname)\n",
    "    else:\n",
    "        print(\"SSCS Dataset found.\")\n",
    "\n",
    "    if(not os.path.exists(sscs_dir)):\n",
    "        print(\"Extracting SSCS Dataset...\")\n",
    "        with zipfile.ZipFile(zipname) as zf:\n",
    "            os.mkdir(sscs_dir)\n",
    "            zf.extractall(path=sscs_dir)\n",
    "    else:\n",
    "        print(\"SSCS Dataset already extracted.\")\n",
    "    \n",
    "    print(\"Done.\")"
   ]
  },
  {
   "attachments": {},
   "cell_type": "markdown",
   "metadata": {},
   "source": [
    "### 1.3 - Splits, songnames and songlists"
   ]
  },
  {
   "cell_type": "code",
   "execution_count": 7,
   "metadata": {},
   "outputs": [],
   "source": [
    "def sscs_get_split(split='train'):\n",
    "    \n",
    "    if(split.lower() == 'train' or split.lower() == 'validate' or\n",
    "       split.lower() == 'test'):\n",
    "        split_list = json.load(open(splitname, 'r'))[split.lower()]\n",
    "        return split_list\n",
    "    else:\n",
    "        raise NameError(\"Split should be 'train', 'validate' or 'test'.\")"
   ]
  },
  {
   "cell_type": "code",
   "execution_count": 8,
   "metadata": {},
   "outputs": [],
   "source": [
    "def sscs_pick_songlist(first=0, amount=5, split='train'):\n",
    "    \n",
    "    songnames = sscs_get_split(split)\n",
    "    return songnames[first:first+amount]"
   ]
  },
  {
   "cell_type": "code",
   "execution_count": 9,
   "metadata": {},
   "outputs": [],
   "source": [
    "def sscs_pick_random_song(split='train'):\n",
    "    \n",
    "    songnames = sscs_get_split(split)\n",
    "    rng = np.random.randint(0, len(songnames))\n",
    "    return songnames[rng]"
   ]
  },
  {
   "cell_type": "code",
   "execution_count": 10,
   "metadata": {},
   "outputs": [],
   "source": [
    "def sscs_pick_multiple_random_songs(amount, split='train'):\n",
    "    \n",
    "    return [sscs_pick_random_song() for i in range(amount)]"
   ]
  },
  {
   "attachments": {},
   "cell_type": "markdown",
   "metadata": {},
   "source": [
    "### 1.4 - Read voices from songs"
   ]
  },
  {
   "cell_type": "code",
   "execution_count": 11,
   "metadata": {},
   "outputs": [],
   "source": [
    "@ray.remote\n",
    "def sscs_read_voice(name, voice):\n",
    "\n",
    "    if  (voice != 'mix' and \\\n",
    "        voice != 'soprano' and \\\n",
    "        voice != 'alto' and \\\n",
    "        voice != 'tenor' and \\\n",
    "        voice != 'bass'):\n",
    "        raise NameError(\"Specify voice with 'soprano', 'alto', \\\n",
    "                        'tenor', 'bass' or 'mix'.\")\n",
    "    \n",
    "    filename = songs_dir + name + \".h5\"\n",
    "    return pd.read_hdf(filename, voice).T"
   ]
  },
  {
   "cell_type": "code",
   "execution_count": 12,
   "metadata": {},
   "outputs": [],
   "source": [
    "def sscs_read_all_voices(name):\n",
    "    \n",
    "    voices = ['mix', 'soprano', 'alto', 'tenor', 'bass']\n",
    "    data_access = [sscs_read_voice.remote(name, voice) for voice in voices]\n",
    "    df_voices = ray.get(data_access)\n",
    "    mix = df_voices[0]\n",
    "    satb = df_voices[1:]\n",
    "    return mix, satb"
   ]
  },
  {
   "attachments": {},
   "cell_type": "markdown",
   "metadata": {},
   "source": [
    "### 1.5 - Downsample songs"
   ]
  },
  {
   "cell_type": "code",
   "execution_count": 13,
   "metadata": {},
   "outputs": [],
   "source": [
    "def sscs_downsample(voice):\n",
    "    voice_0 = np.array(voice.T[0::5]).T\n",
    "    voice_1 = np.array(voice.T[1::5]).T\n",
    "    voice_2 = np.array(voice.T[2::5]).T\n",
    "    voice_3 = np.array(voice.T[3::5]).T\n",
    "    voice_4 = np.array(voice.T[4::5]).T\n",
    "\n",
    "    voice_sums = voice_0 + voice_1 + voice_2 + voice_3 + voice_4\n",
    "\n",
    "    def downsample_threshold(item):\n",
    "        if item >= 1.0: return 1.0\n",
    "        else: return 0.0\n",
    "\n",
    "    vectorized_downsample_threshold = np.vectorize(downsample_threshold)\n",
    "\n",
    "    voice_sums = vectorized_downsample_threshold(voice_sums)\n",
    "\n",
    "    return voice_sums"
   ]
  },
  {
   "attachments": {},
   "cell_type": "markdown",
   "metadata": {},
   "source": [
    "### 1.6 - Plots"
   ]
  },
  {
   "cell_type": "code",
   "execution_count": 14,
   "metadata": {},
   "outputs": [],
   "source": [
    "def sscs_plot(dataframe):\n",
    "\n",
    "    aspect_ratio = (3/8)*dataframe.shape[1]/dataframe.shape[0]\n",
    "    fig, ax = plt.subplots(figsize=(13, 7))\n",
    "    im = ax.imshow(dataframe, interpolation='nearest', aspect=aspect_ratio,\n",
    "        cmap = mpl.colormaps['BuPu'])\n",
    "    ax.invert_yaxis()\n",
    "    plt.show()"
   ]
  },
  {
   "attachments": {},
   "cell_type": "markdown",
   "metadata": {},
   "source": [
    "## 2 - Download and extract dataset SSCS"
   ]
  },
  {
   "cell_type": "code",
   "execution_count": 15,
   "metadata": {},
   "outputs": [
    {
     "name": "stdout",
     "output_type": "stream",
     "text": [
      "SSCS Dataset found.\n",
      "SSCS Dataset already extracted.\n",
      "Done.\n"
     ]
    }
   ],
   "source": [
    "sscs_download()"
   ]
  },
  {
   "attachments": {},
   "cell_type": "markdown",
   "metadata": {},
   "source": [
    "## 3 - Function to convert a song in SSCS to MIDI"
   ]
  },
  {
   "attachments": {},
   "cell_type": "markdown",
   "metadata": {},
   "source": [
    "The following code was adapted from [midi_to_numpy](https://github.com/qsdfo/midi_to_numpy/blob/master/write_midi.py) by qsdfo."
   ]
  },
  {
   "cell_type": "code",
   "execution_count": 48,
   "metadata": {},
   "outputs": [],
   "source": [
    "def write_midi(pr, ticks_per_beat=52, write_path=midi_dir, tempo=90):\n",
    "    def pr_to_list(pr):\n",
    "        # List event = (pitch, velocity, time)\n",
    "        T, N = pr.shape\n",
    "        t_last = 0\n",
    "        pr_tm1 = np.zeros(N)\n",
    "        list_event = []\n",
    "        for t in range(T):\n",
    "            pr_t = pr[t]\n",
    "            mask = (pr_t != pr_tm1)\n",
    "            if (mask).any():\n",
    "                for n in range(N):\n",
    "                    if mask[n]:\n",
    "                        if(N == 72):\n",
    "                            pitch = 21 + n\n",
    "                            velocity = int(pr_t[n] * 127)\n",
    "                        else:\n",
    "                            pitch = 21 + round(n/5)\n",
    "                            if(pr_t[n] == 0):\n",
    "                                velocity = 0\n",
    "                            else:\n",
    "                                velocity = 127\n",
    "                            #velocity = int(pr_t[n] * 127)\n",
    "                        # Time is incremented since last event\n",
    "                        t_event = t - t_last\n",
    "                        t_last = t\n",
    "                        list_event.append((pitch, velocity, t_event))\n",
    "            pr_tm1 = pr_t\n",
    "        return list_event\n",
    "    # Tempo\n",
    "    microseconds_per_beat = mido.bpm2tempo(tempo)\n",
    "    # Write a pianoroll in a midi file\n",
    "    mid = mido.MidiFile()\n",
    "    mid.ticks_per_beat = ticks_per_beat\n",
    "\n",
    "\n",
    "    # Add a new track with the instrument name to the midi file\n",
    "    track = mid.add_track(\"Voice Aah\")\n",
    "    # transform the matrix in a list of (pitch, velocity, time)\n",
    "    events = pr_to_list(pr)\n",
    "    # Tempo\n",
    "    track.append(mido.MetaMessage('set_tempo', tempo=microseconds_per_beat))\n",
    "    # Add the program_change\n",
    "    program = 53 #Choir Aahs = 53, Voice Oohs (or Doos) = 54, Synch Choir = 55\n",
    "    track.append(mido.Message('program_change', program=program))\n",
    "\n",
    "    # This list is required to shut down\n",
    "    # notes that are on, intensity modified, then off only 1 time\n",
    "    # Example :\n",
    "    # (60,20,0)\n",
    "    # (60,40,10)\n",
    "    # (60,0,15)\n",
    "    notes_on_list = []\n",
    "    # Write events in the midi file\n",
    "    for event in events:\n",
    "        pitch, velocity, time = event\n",
    "        if velocity == 0:\n",
    "            # Get the channel\n",
    "            track.append(mido.Message('note_off', note=pitch, velocity=0, time=time))\n",
    "            notes_on_list.remove(pitch)\n",
    "        else:\n",
    "            if pitch in notes_on_list:\n",
    "                track.append(mido.Message('note_off', note=pitch, velocity=0, time=time))\n",
    "                notes_on_list.remove(pitch)\n",
    "                time = 0\n",
    "            track.append(mido.Message('note_on', note=pitch, velocity=velocity, time=time))\n",
    "            notes_on_list.append(pitch)\n",
    "    mid.save(write_path)\n",
    "    return"
   ]
  },
  {
   "attachments": {},
   "cell_type": "markdown",
   "metadata": {},
   "source": [
    "## 4 - Pick song and convert voices"
   ]
  },
  {
   "cell_type": "code",
   "execution_count": 31,
   "metadata": {},
   "outputs": [
    {
     "name": "stdout",
     "output_type": "stream",
     "text": [
      "(8096, 72)\n"
     ]
    }
   ],
   "source": [
    "song = sscs_pick_random_song()\n",
    "mix, satb = sscs_read_all_voices(song)\n",
    "sop = satb[0].to_numpy().T\n",
    "alto = satb[1].to_numpy().T\n",
    "ten = satb[2].to_numpy().T\n",
    "bass = satb[3].to_numpy().T\n",
    "mix = mix.T\n",
    "\n",
    "down_mix = sscs_downsample(mix)\n",
    "down_sop = sscs_downsample(sop)\n",
    "down_alto = sscs_downsample(alto)\n",
    "down_ten = sscs_downsample(ten)\n",
    "down_bass = sscs_downsample(bass)\n",
    "\n",
    "print(down_mix.shape)"
   ]
  },
  {
   "cell_type": "code",
   "execution_count": 32,
   "metadata": {},
   "outputs": [
    {
     "data": {
      "image/png": "[encoded data removed]",
      "text/plain": [
       "<Figure size 1300x700 with 1 Axes>"
      ]
     },
     "metadata": {},
     "output_type": "display_data"
    }
   ],
   "source": [
    "sscs_plot(mix.T)"
   ]
  },
  {
   "cell_type": "code",
   "execution_count": 33,
   "metadata": {},
   "outputs": [
    {
     "data": {
      "image/png": "[encoded data removed]",
      "text/plain": [
       "<Figure size 1300x700 with 1 Axes>"
      ]
     },
     "metadata": {},
     "output_type": "display_data"
    }
   ],
   "source": [
    "sscs_plot(down_mix.T)"
   ]
  },
  {
   "cell_type": "code",
   "execution_count": 49,
   "metadata": {},
   "outputs": [],
   "source": [
    "write_midi(down_sop, write_path='./MIDI/soprano.mid')\n",
    "write_midi(down_alto, write_path='./MIDI/alto.mid')\n",
    "write_midi(down_ten, write_path='./MIDI/tenor.mid')\n",
    "write_midi(down_bass, write_path='./MIDI/bass.mid')"
   ]
  },
  {
   "cell_type": "code",
   "execution_count": 50,
   "metadata": {},
   "outputs": [
    {
     "ename": "ValueError",
     "evalue": "list.remove(x): x not in list",
     "output_type": "error",
     "traceback": [
      "\u001b[1;31m---------------------------------------------------------------------------\u001b[0m",
      "\u001b[1;31mValueError\u001b[0m                                Traceback (most recent call last)",
      "Cell \u001b[1;32mIn[50], line 1\u001b[0m\n\u001b[1;32m----> 1\u001b[0m write_midi(sop, write_path\u001b[39m=\u001b[39;49m\u001b[39m'\u001b[39;49m\u001b[39m./MIDI/soprano_high.mid\u001b[39;49m\u001b[39m'\u001b[39;49m)\n\u001b[0;32m      2\u001b[0m write_midi(alto, write_path\u001b[39m=\u001b[39m\u001b[39m'\u001b[39m\u001b[39m./MIDI/alto_high.mid\u001b[39m\u001b[39m'\u001b[39m)\n\u001b[0;32m      3\u001b[0m write_midi(ten, write_path\u001b[39m=\u001b[39m\u001b[39m'\u001b[39m\u001b[39m./MIDI/tenor_high.mid\u001b[39m\u001b[39m'\u001b[39m)\n",
      "Cell \u001b[1;32mIn[48], line 60\u001b[0m, in \u001b[0;36mwrite_midi\u001b[1;34m(pr, ticks_per_beat, write_path, tempo)\u001b[0m\n\u001b[0;32m     57\u001b[0m \u001b[39mif\u001b[39;00m velocity \u001b[39m==\u001b[39m \u001b[39m0\u001b[39m:\n\u001b[0;32m     58\u001b[0m     \u001b[39m# Get the channel\u001b[39;00m\n\u001b[0;32m     59\u001b[0m     track\u001b[39m.\u001b[39mappend(mido\u001b[39m.\u001b[39mMessage(\u001b[39m'\u001b[39m\u001b[39mnote_off\u001b[39m\u001b[39m'\u001b[39m, note\u001b[39m=\u001b[39mpitch, velocity\u001b[39m=\u001b[39m\u001b[39m0\u001b[39m, time\u001b[39m=\u001b[39mtime))\n\u001b[1;32m---> 60\u001b[0m     notes_on_list\u001b[39m.\u001b[39;49mremove(pitch)\n\u001b[0;32m     61\u001b[0m \u001b[39melse\u001b[39;00m:\n\u001b[0;32m     62\u001b[0m     \u001b[39mif\u001b[39;00m pitch \u001b[39min\u001b[39;00m notes_on_list:\n",
      "\u001b[1;31mValueError\u001b[0m: list.remove(x): x not in list"
     ]
    }
   ],
   "source": [
    "write_midi(sop, write_path='./MIDI/soprano_high.mid')\n",
    "write_midi(alto, write_path='./MIDI/alto_high.mid')\n",
    "write_midi(ten, write_path='./MIDI/tenor_high.mid')\n",
    "write_midi(bass, write_path='./MIDI/bass_high.mid')"
   ]
  }
 ],
 "metadata": {
  "kernelspec": {
   "display_name": "tf",
   "language": "python",
   "name": "python3"
  },
  "language_info": {
   "codemirror_mode": {
    "name": "ipython",
    "version": 3
   },
   "file_extension": ".py",
   "mimetype": "text/x-python",
   "name": "python",
   "nbconvert_exporter": "python",
   "pygments_lexer": "ipython3",
   "version": "3.10.11"
  },
  "orig_nbformat": 4
 },
 "nbformat": 4,
 "nbformat_minor": 2
}
