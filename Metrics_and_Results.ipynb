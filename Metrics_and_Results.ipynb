{
 "cells": [
  {
   "cell_type": "code",
   "execution_count": null,
   "metadata": {},
   "outputs": [],
   "source": [
    "import numpy as np\n",
    "import va_plots\n",
    "\n",
    "MODEL = 0\n",
    "\n",
    "if (MODEL == 0):\n",
    "    log_folder = 'mask_voas_v2'\n",
    "elif (MODEL == 1):\n",
    "    log_folder = 'mask_voas_cnn'\n",
    "elif (MODEL == 2):\n",
    "    log_folder = 'downsample_voas_cnn'\n",
    "elif (MODEL == 3):\n",
    "    log_folder = 'downsample_voas_v2'\n",
    "elif (MODEL == 4):\n",
    "    log_folder = 'voas_cnn'\n",
    "\n",
    "metrics_dir = './Evaluation_Data/' + log_folder + '_f-scores_treino1.h5'\n",
    "mix_metrics, sop_metrics, alto_metrics, ten_metrics, bass_metrics = va_plots.metrics_load_precomputed(metrics_dir)\n",
    "f_scores = np.array([sop_metrics['F-Measure'].to_numpy(), alto_metrics['F-Measure'].to_numpy(), ten_metrics['F-Measure'].to_numpy(), bass_metrics['F-Measure'].to_numpy()])"
   ]
  },
  {
   "cell_type": "code",
   "execution_count": null,
   "metadata": {},
   "outputs": [],
   "source": [
    "#mix_metrics"
   ]
  },
  {
   "cell_type": "code",
   "execution_count": null,
   "metadata": {},
   "outputs": [],
   "source": [
    "#sop_metrics"
   ]
  },
  {
   "cell_type": "code",
   "execution_count": null,
   "metadata": {},
   "outputs": [],
   "source": [
    "#alto_metrics"
   ]
  },
  {
   "cell_type": "code",
   "execution_count": null,
   "metadata": {},
   "outputs": [],
   "source": [
    "#ten_metrics"
   ]
  },
  {
   "cell_type": "code",
   "execution_count": null,
   "metadata": {},
   "outputs": [],
   "source": [
    "#bass_metrics"
   ]
  },
  {
   "cell_type": "code",
   "execution_count": null,
   "metadata": {},
   "outputs": [],
   "source": [
    "va_plots.joint_f_histograms(f_scores, title=log_folder)"
   ]
  },
  {
   "cell_type": "code",
   "execution_count": null,
   "metadata": {},
   "outputs": [],
   "source": [
    "va_plots.voice_f_histograms(f_scores, title=log_folder)"
   ]
  },
  {
   "cell_type": "code",
   "execution_count": null,
   "metadata": {},
   "outputs": [],
   "source": [
    "va_plots.boxplot(f_scores, title=log_folder)"
   ]
  }
 ],
 "metadata": {
  "kernelspec": {
   "display_name": "tf",
   "language": "python",
   "name": "python3"
  },
  "language_info": {
   "codemirror_mode": {
    "name": "ipython",
    "version": 3
   },
   "file_extension": ".py",
   "mimetype": "text/x-python",
   "name": "python",
   "nbconvert_exporter": "python",
   "pygments_lexer": "ipython3",
   "version": "3.11.4"
  },
  "orig_nbformat": 4
 },
 "nbformat": 4,
 "nbformat_minor": 2
}
