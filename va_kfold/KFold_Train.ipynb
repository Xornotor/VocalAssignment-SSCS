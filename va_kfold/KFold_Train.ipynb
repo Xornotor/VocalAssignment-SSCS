{
 "cells": [
  {
   "cell_type": "markdown",
   "metadata": {},
   "source": [
    "# **KFold Training - MaskVoasCNNv2**"
   ]
  },
  {
   "cell_type": "code",
   "execution_count": null,
   "metadata": {},
   "outputs": [],
   "source": [
    "import numpy as np\n",
    "import tensorflow as tf\n",
    "import va_utils"
   ]
  },
  {
   "cell_type": "code",
   "execution_count": null,
   "metadata": {},
   "outputs": [],
   "source": [
    "#Model Type:\n",
    "#0 = VoasCNN (Retreino), 1 = VoasCNN (Original)\n",
    "#2 = Downsample, 3 = Mask, 4 = MaskV2, 5 = DownsampleV2\n",
    "\n",
    "TRAINING_NUMBER = 2\n",
    "L_RATE = 5e-4\n",
    "EPOCHS = 50"
   ]
  },
  {
   "cell_type": "code",
   "execution_count": null,
   "metadata": {},
   "outputs": [],
   "source": [
    "va_utils.download()"
   ]
  },
  {
   "cell_type": "code",
   "execution_count": null,
   "metadata": {},
   "outputs": [],
   "source": [
    "def kfold_train(fold_number):\n",
    "    if fold_number == 1:\n",
    "        ds_train = va_utils.get_dataset(split='train', start_index=800, end_index=4000)\n",
    "        ds_val = va_utils.get_dataset(split='train', end_index=800)\n",
    "    elif fold_number == 2:\n",
    "        ds_train_a = va_utils.get_dataset(split='train', end_index=800)\n",
    "        ds_train_b = va_utils.get_dataset(split='train', start_index=1600, end_index=4000)\n",
    "        ds_train = ds_train_a.concatenate(ds_train_b)\n",
    "        ds_val = va_utils.get_dataset(split='train', start_index=800, end_index=1600)\n",
    "    elif fold_number == 3:\n",
    "        ds_train_a = va_utils.get_dataset(split='train', end_index=1600)\n",
    "        ds_train_b = va_utils.get_dataset(split='train', start_index=2400, end_index=4000)\n",
    "        ds_train = ds_train_a.concatenate(ds_train_b)\n",
    "        ds_val = va_utils.get_dataset(split='train', start_index=1600, end_index=2400)\n",
    "    elif fold_number == 4:\n",
    "        ds_train_a = va_utils.get_dataset(split='train', end_index=2400)\n",
    "        ds_train_b = va_utils.get_dataset(split='train', start_index=3200, end_index=4000)\n",
    "        ds_train = ds_train_a.concatenate(ds_train_b)\n",
    "        ds_val = va_utils.get_dataset(split='train', start_index=2400, end_index=3200)\n",
    "    elif fold_number == 5:\n",
    "        ds_train = va_utils.get_dataset(split='train', end_index=3200)\n",
    "        ds_val = va_utils.get_dataset(split='train', start_index=3200, end_index=4000)\n",
    "    else:\n",
    "        print('Invalid Fold Number.')\n",
    "\n",
    "    ckpt_dir = './Checkpoints/mask_voas_v2_treino' + str(TRAINING_NUMBER) + '_kfold_' + str(fold_number) + '.keras'\n",
    "    model = va_utils.mask_voas_cnn_v2_model(l_rate = L_RATE)\n",
    "    log_folder = 'mask_voas_v2_treino' + str(TRAINING_NUMBER)\n",
    "\n",
    "    metrics_dir = './Evaluation_Data/' + log_folder + '_treino' + str(TRAINING_NUMBER) + '_kfold_' + str(fold_number) + '.h5'\n",
    "\n",
    "    va_utils.train(model, ds_train, ds_val, epochs=EPOCHS, save_model=True,\n",
    "                ckpt_dir=ckpt_dir, log_folder=log_folder, early_stopping=6)\n",
    "\n",
    "    metrics = va_utils.metrics_test_precompute(model, metrics_dir)"
   ]
  },
  {
   "cell_type": "code",
   "execution_count": null,
   "metadata": {},
   "outputs": [],
   "source": [
    "for i in (1, 6):\n",
    "    kfold_train(i)"
   ]
  }
 ],
 "metadata": {
  "kernelspec": {
   "display_name": "Python 3",
   "language": "python",
   "name": "python3"
  },
  "language_info": {
   "codemirror_mode": {
    "name": "ipython",
    "version": 3
   },
   "file_extension": ".py",
   "mimetype": "text/x-python",
   "name": "python",
   "nbconvert_exporter": "python",
   "pygments_lexer": "ipython3",
   "version": "3.8.10"
  }
 },
 "nbformat": 4,
 "nbformat_minor": 2
}
