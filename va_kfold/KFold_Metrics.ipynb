{
 "cells": [
  {
   "cell_type": "markdown",
   "metadata": {},
   "source": [
    "# **Metrics and Results - SSCS - K-Fold**\n",
    "\n",
    "Developed by André Paiva\n",
    "\n",
    "Based on papers by Helena Cuesta and Emilia Gómez"
   ]
  },
  {
   "cell_type": "code",
   "execution_count": null,
   "metadata": {},
   "outputs": [],
   "source": [
    "import numpy as np\n",
    "import va_plots"
   ]
  },
  {
   "cell_type": "code",
   "execution_count": null,
   "metadata": {},
   "outputs": [],
   "source": [
    "TRAIN = 2"
   ]
  },
  {
   "cell_type": "code",
   "execution_count": null,
   "metadata": {},
   "outputs": [],
   "source": [
    "def plot_val_metrics(train, fold):\n",
    "    log_folder = 'mask_voas_v2'\n",
    "    model_name = 'MaskVoasCNNv2'\n",
    "    metrics_dir = './Evaluation_Data/val_' + log_folder + '_treino' + str(train) + '_kfold_' + str(fold) + '.h5'\n",
    "    mix_metrics,sop_metrics, alto_metrics, ten_metrics, bass_metrics = va_plots.metrics_load_precomputed(metrics_dir)\n",
    "    va_plots.evaluation_boxplots(sop_metrics,\n",
    "                                alto_metrics,\n",
    "                                ten_metrics,\n",
    "                                bass_metrics,\n",
    "                                title=model_name + ' (KFold) - Fold ' + str(fold) + ' - Validation Fold')"
   ]
  },
  {
   "cell_type": "code",
   "execution_count": null,
   "metadata": {},
   "outputs": [],
   "source": [
    "def plot_test_metrics(train, fold):\n",
    "    log_folder = 'mask_voas_v2'\n",
    "    model_name = 'MaskVoasCNNv2'\n",
    "    metrics_dir = './Evaluation_Data/' + log_folder + '_treino' + str(train) + '_kfold_' + str(fold) + '.h5'\n",
    "    mix_metrics,sop_metrics, alto_metrics, ten_metrics, bass_metrics = va_plots.metrics_load_precomputed(metrics_dir)\n",
    "    va_plots.evaluation_boxplots(sop_metrics,\n",
    "                                alto_metrics,\n",
    "                                ten_metrics,\n",
    "                                bass_metrics,\n",
    "                                title=model_name + ' (KFold) - Fold ' + str(fold) + ' - Test')"
   ]
  },
  {
   "cell_type": "code",
   "execution_count": null,
   "metadata": {},
   "outputs": [],
   "source": [
    "plot_test_metrics(TRAIN, 1)"
   ]
  },
  {
   "cell_type": "code",
   "execution_count": null,
   "metadata": {},
   "outputs": [],
   "source": [
    "plot_test_metrics(TRAIN, 2)"
   ]
  },
  {
   "cell_type": "code",
   "execution_count": null,
   "metadata": {},
   "outputs": [],
   "source": [
    "plot_test_metrics(TRAIN, 3)"
   ]
  },
  {
   "cell_type": "code",
   "execution_count": null,
   "metadata": {},
   "outputs": [],
   "source": [
    "plot_test_metrics(TRAIN, 4)"
   ]
  },
  {
   "cell_type": "code",
   "execution_count": null,
   "metadata": {},
   "outputs": [],
   "source": [
    "plot_test_metrics(TRAIN, 5)"
   ]
  },
  {
   "cell_type": "code",
   "execution_count": null,
   "metadata": {},
   "outputs": [],
   "source": [
    "plot_val_metrics(1, 1)"
   ]
  },
  {
   "cell_type": "code",
   "execution_count": null,
   "metadata": {},
   "outputs": [],
   "source": [
    "plot_val_metrics(1, 2)"
   ]
  },
  {
   "cell_type": "code",
   "execution_count": null,
   "metadata": {},
   "outputs": [],
   "source": [
    "plot_val_metrics(1, 3)"
   ]
  },
  {
   "cell_type": "code",
   "execution_count": null,
   "metadata": {},
   "outputs": [],
   "source": [
    "plot_val_metrics(1, 4)"
   ]
  },
  {
   "cell_type": "code",
   "execution_count": null,
   "metadata": {},
   "outputs": [],
   "source": [
    "plot_val_metrics(1, 5)"
   ]
  }
 ],
 "metadata": {
  "kernelspec": {
   "display_name": "Python 3",
   "language": "python",
   "name": "python3"
  },
  "language_info": {
   "codemirror_mode": {
    "name": "ipython",
    "version": 3
   },
   "file_extension": ".py",
   "mimetype": "text/x-python",
   "name": "python",
   "nbconvert_exporter": "python",
   "pygments_lexer": "ipython3",
   "version": "3.8.10"
  }
 },
 "nbformat": 4,
 "nbformat_minor": 2
}
