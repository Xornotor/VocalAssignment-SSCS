{
 "cells": [
  {
   "cell_type": "markdown",
   "metadata": {},
   "source": [
    "# **Metrics and Results - SSCS - K-Fold**\n",
    "\n",
    "Developed by André Paiva\n",
    "\n",
    "Based on papers by Helena Cuesta and Emilia Gómez"
   ]
  },
  {
   "cell_type": "code",
   "execution_count": null,
   "metadata": {},
   "outputs": [],
   "source": [
    "import numpy as np\n",
    "import va_plots"
   ]
  },
  {
   "cell_type": "code",
   "execution_count": null,
   "metadata": {},
   "outputs": [],
   "source": [
    "TRAIN = 2\n",
    "FOLD = 1"
   ]
  },
  {
   "cell_type": "code",
   "execution_count": null,
   "metadata": {},
   "outputs": [],
   "source": [
    "log_folder = 'mask_voas_v2'\n",
    "model_name = 'MaskVoasCNNv2'\n",
    "metrics_dir = './Evaluation_Data/' + log_folder + '_treino' + str(TRAIN) + '_kfold_' + str(FOLD) + '.h5'\n",
    "mix_metrics,sop_metrics, alto_metrics, ten_metrics, bass_metrics = va_plots.metrics_load_precomputed(metrics_dir)"
   ]
  },
  {
   "cell_type": "code",
   "execution_count": null,
   "metadata": {},
   "outputs": [],
   "source": [
    "va_plots.evaluation_boxplots(sop_metrics,\n",
    "                             alto_metrics,\n",
    "                             ten_metrics,\n",
    "                             bass_metrics,\n",
    "                             title=model_name + ' (KFold) - Fold ' + str(FOLD))"
   ]
  }
 ],
 "metadata": {
  "kernelspec": {
   "display_name": "Python 3",
   "language": "python",
   "name": "python3"
  },
  "language_info": {
   "codemirror_mode": {
    "name": "ipython",
    "version": 3
   },
   "file_extension": ".py",
   "mimetype": "text/x-python",
   "name": "python",
   "nbconvert_exporter": "python",
   "pygments_lexer": "ipython3",
   "version": "3.8.10"
  }
 },
 "nbformat": 4,
 "nbformat_minor": 2
}
