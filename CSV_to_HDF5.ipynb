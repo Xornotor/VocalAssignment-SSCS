{
 "cells": [
  {
   "attachments": {},
   "cell_type": "markdown",
   "metadata": {},
   "source": [
    "# SSCS dataset conversion to HDF5"
   ]
  },
  {
   "cell_type": "code",
   "execution_count": 1,
   "metadata": {},
   "outputs": [],
   "source": [
    "import os\n",
    "import re\n",
    "import numpy as np\n",
    "import pandas as pd\n",
    "import json\n",
    "import zipfile\n",
    "import h5py\n",
    "import matplotlib as mpl\n",
    "import matplotlib.pyplot as plt"
   ]
  },
  {
   "cell_type": "code",
   "execution_count": 2,
   "metadata": {},
   "outputs": [
    {
     "name": "stderr",
     "output_type": "stream",
     "text": [
      "2023-05-29 22:46:26,353\tINFO worker.py:1625 -- Started a local Ray instance.\n"
     ]
    },
    {
     "data": {
      "text/html": [
       "<div>\n",
       "    <div style=\"margin-left: 50px;display: flex;flex-direction: row;align-items: center\">\n",
       "        <h3 style=\"color: var(--jp-ui-font-color0)\">Ray</h3>\n",
       "        <svg version=\"1.1\" id=\"ray\" width=\"3em\" viewBox=\"0 0 144.5 144.6\" style=\"margin-left: 3em;margin-right: 3em\">\n",
       "            <g id=\"layer-1\">\n",
       "                <path fill=\"#00a2e9\" class=\"st0\" d=\"M97.3,77.2c-3.8-1.1-6.2,0.9-8.3,5.1c-3.5,6.8-9.9,9.9-17.4,9.6S58,88.1,54.8,81.2c-1.4-3-3-4-6.3-4.1\n",
       "                    c-5.6-0.1-9.9,0.1-13.1,6.4c-3.8,7.6-13.6,10.2-21.8,7.6C5.2,88.4-0.4,80.5,0,71.7c0.1-8.4,5.7-15.8,13.8-18.2\n",
       "                    c8.4-2.6,17.5,0.7,22.3,8c1.3,1.9,1.3,5.2,3.6,5.6c3.9,0.6,8,0.2,12,0.2c1.8,0,1.9-1.6,2.4-2.8c3.5-7.8,9.7-11.8,18-11.9\n",
       "                    c8.2-0.1,14.4,3.9,17.8,11.4c1.3,2.8,2.9,3.6,5.7,3.3c1-0.1,2,0.1,3,0c2.8-0.5,6.4,1.7,8.1-2.7s-2.3-5.5-4.1-7.5\n",
       "                    c-5.1-5.7-10.9-10.8-16.1-16.3C84,38,81.9,37.1,78,38.3C66.7,42,56.2,35.7,53,24.1C50.3,14,57.3,2.8,67.7,0.5\n",
       "                    C78.4-2,89,4.7,91.5,15.3c0.1,0.3,0.1,0.5,0.2,0.8c0.7,3.4,0.7,6.9-0.8,9.8c-1.7,3.2-0.8,5,1.5,7.2c6.7,6.5,13.3,13,19.8,19.7\n",
       "                    c1.8,1.8,3,2.1,5.5,1.2c9.1-3.4,17.9-0.6,23.4,7c4.8,6.9,4.6,16.1-0.4,22.9c-5.4,7.2-14.2,9.9-23.1,6.5c-2.3-0.9-3.5-0.6-5.1,1.1\n",
       "                    c-6.7,6.9-13.6,13.7-20.5,20.4c-1.8,1.8-2.5,3.2-1.4,5.9c3.5,8.7,0.3,18.6-7.7,23.6c-7.9,5-18.2,3.8-24.8-2.9\n",
       "                    c-6.4-6.4-7.4-16.2-2.5-24.3c4.9-7.8,14.5-11,23.1-7.8c3,1.1,4.7,0.5,6.9-1.7C91.7,98.4,98,92.3,104.2,86c1.6-1.6,4.1-2.7,2.6-6.2\n",
       "                    c-1.4-3.3-3.8-2.5-6.2-2.6C99.8,77.2,98.9,77.2,97.3,77.2z M72.1,29.7c5.5,0.1,9.9-4.3,10-9.8c0-0.1,0-0.2,0-0.3\n",
       "                    C81.8,14,77,9.8,71.5,10.2c-5,0.3-9,4.2-9.3,9.2c-0.2,5.5,4,10.1,9.5,10.3C71.8,29.7,72,29.7,72.1,29.7z M72.3,62.3\n",
       "                    c-5.4-0.1-9.9,4.2-10.1,9.7c0,0.2,0,0.3,0,0.5c0.2,5.4,4.5,9.7,9.9,10c5.1,0.1,9.9-4.7,10.1-9.8c0.2-5.5-4-10-9.5-10.3\n",
       "                    C72.6,62.3,72.4,62.3,72.3,62.3z M115,72.5c0.1,5.4,4.5,9.7,9.8,9.9c5.6-0.2,10-4.8,10-10.4c-0.2-5.4-4.6-9.7-10-9.7\n",
       "                    c-5.3-0.1-9.8,4.2-9.9,9.5C115,72.1,115,72.3,115,72.5z M19.5,62.3c-5.4,0.1-9.8,4.4-10,9.8c-0.1,5.1,5.2,10.4,10.2,10.3\n",
       "                    c5.6-0.2,10-4.9,9.8-10.5c-0.1-5.4-4.5-9.7-9.9-9.6C19.6,62.3,19.5,62.3,19.5,62.3z M71.8,134.6c5.9,0.2,10.3-3.9,10.4-9.6\n",
       "                    c0.5-5.5-3.6-10.4-9.1-10.8c-5.5-0.5-10.4,3.6-10.8,9.1c0,0.5,0,0.9,0,1.4c-0.2,5.3,4,9.8,9.3,10\n",
       "                    C71.6,134.6,71.7,134.6,71.8,134.6z\"/>\n",
       "            </g>\n",
       "        </svg>\n",
       "        <table>\n",
       "            <tr>\n",
       "                <td style=\"text-align: left\"><b>Python version:</b></td>\n",
       "                <td style=\"text-align: left\"><b>3.10.11</b></td>\n",
       "            </tr>\n",
       "            <tr>\n",
       "                <td style=\"text-align: left\"><b>Ray version:</b></td>\n",
       "                <td style=\"text-align: left\"><b> 2.4.0</b></td>\n",
       "            </tr>\n",
       "            \n",
       "        </table>\n",
       "    </div>\n",
       "</div>\n"
      ],
      "text/plain": [
       "RayContext(dashboard_url='', python_version='3.10.11', ray_version='2.4.0', ray_commit='4479f66d4db967d3c9dd0af2572061276ba926ba', address_info={'node_ip_address': '127.0.0.1', 'raylet_ip_address': '127.0.0.1', 'redis_address': None, 'object_store_address': 'tcp://127.0.0.1:63833', 'raylet_socket_name': 'tcp://127.0.0.1:59167', 'webui_url': '', 'session_dir': 'C:\\\\Users\\\\andre\\\\AppData\\\\Local\\\\Temp\\\\ray\\\\session_2023-05-29_22-46-23_840506_19500', 'metrics_export_port': 56957, 'gcs_address': '127.0.0.1:60065', 'address': '127.0.0.1:60065', 'dashboard_agent_listen_port': 52365, 'node_id': '361bbad4decfbe38cbfa3acbe0d21f3754445b3a82fa6a34fdab0793'})"
      ]
     },
     "execution_count": 2,
     "metadata": {},
     "output_type": "execute_result"
    }
   ],
   "source": [
    "import psutil\n",
    "import ray\n",
    "\n",
    "num_cpus = psutil.cpu_count(logical=False)\n",
    "ray.init(num_cpus=num_cpus, num_gpus=0, ignore_reinit_error=True)"
   ]
  },
  {
   "cell_type": "code",
   "execution_count": 3,
   "metadata": {},
   "outputs": [],
   "source": [
    "zipname = \"Datasets/SynthSalienceChoralSet_v1.zip\"\n",
    "h5_pathname = \"Datasets/HDF5/\""
   ]
  },
  {
   "cell_type": "code",
   "execution_count": 4,
   "metadata": {},
   "outputs": [],
   "source": [
    "def name_conformity(name):\n",
    "    return re.sub(\"[~\\\"#%&*:<>?/\\\\{|}]\", \"\", name)"
   ]
  },
  {
   "cell_type": "code",
   "execution_count": 5,
   "metadata": {},
   "outputs": [],
   "source": [
    "def sscs_get_split(split='train'):\n",
    "    splitname = \"Datasets/SynthSalienceChoralSet_dataSplits.json\"\n",
    "    if(split.lower() == 'train' or split.lower() == 'validate' or\n",
    "       split.lower() == 'test'):\n",
    "        return json.load(open(splitname, 'r'))[split.lower()]\n",
    "    else:\n",
    "        raise NameError(\"Split should be 'train', 'validate' or 'test'.\")\n"
   ]
  },
  {
   "cell_type": "code",
   "execution_count": 6,
   "metadata": {},
   "outputs": [],
   "source": [
    "def checkIntegrity(songlist):\n",
    "\n",
    "    count = 0\n",
    "    filtered_list = songlist\n",
    "    \n",
    "    with zipfile.ZipFile(zipname, \"r\") as zf:\n",
    "        ziplist = zf.namelist()\n",
    "    \n",
    "    for song in songlist:\n",
    "        fname = \"sscs/\" + song\n",
    "        mix = fname + \"_mix.csv\"\n",
    "        s = fname + \"_S.csv\"\n",
    "        a = fname + \"_A.csv\"\n",
    "        t = fname + \"_T.csv\"\n",
    "        b = fname + \"_B.csv\"\n",
    "        if  (not mix in ziplist) or \\\n",
    "            (not s in ziplist) or \\\n",
    "            (not a in ziplist) or \\\n",
    "            (not t in ziplist) or \\\n",
    "            (not b in ziplist):\n",
    "                filtered_list.remove(song)\n",
    "                count += 1\n",
    "\n",
    "    print(f\"{count} songs not present and removed from scanlist.\")\n",
    "    return filtered_list"
   ]
  },
  {
   "cell_type": "code",
   "execution_count": 7,
   "metadata": {},
   "outputs": [
    {
     "name": "stdout",
     "output_type": "stream",
     "text": [
      "12 songs not present and removed from scanlist.\n",
      "2 songs not present and removed from scanlist.\n",
      "3 songs not present and removed from scanlist.\n"
     ]
    }
   ],
   "source": [
    "train = checkIntegrity(sscs_get_split())\n",
    "validate = checkIntegrity(sscs_get_split('validate'))\n",
    "test = checkIntegrity(sscs_get_split('test'))\n",
    "\n",
    "train_conformity = [name_conformity(name) for name in train]\n",
    "validate_conformity = [name_conformity(name) for name in validate]\n",
    "test_conformity = [name_conformity(name) for name in test]\n",
    "\n",
    "hdf5_metadata = {}\n",
    "hdf5_metadata['train'] = train_conformity\n",
    "hdf5_metadata['validate'] = validate_conformity\n",
    "hdf5_metadata['test'] = test_conformity\n",
    "\n",
    "metadata_filename = h5_pathname + \"SynthSalienceChoralSet_hdf5_dataSplits.json\"\n",
    "with open(metadata_filename, \"w\") as metadata_file:\n",
    "    json.dump(hdf5_metadata, metadata_file, indent=4)"
   ]
  },
  {
   "cell_type": "code",
   "execution_count": 8,
   "metadata": {},
   "outputs": [],
   "source": [
    "MAX_MEM = 2 * 1024 * 1024 * 1024\n",
    "\n",
    "def csv_to_df(songname):\n",
    "    with zipfile.ZipFile(zipname) as zf:\n",
    "        fname = \"sscs/\" + songname\n",
    "        with zf.open(fname) as f:\n",
    "            df = pd.read_csv(f, header=None, engine='pyarrow')\n",
    "        df = df.T\n",
    "        return df\n",
    "    \n",
    "def df_to_hdf5(df, savename, keyname):\n",
    "    df.to_hdf(savename, keyname, mode='a',\n",
    "            format='table', complevel=9, complib='blosc')\n",
    "\n",
    "@ray.remote  \n",
    "def csv_to_hdf5(songname, songname_conformity, split='train'):\n",
    "    fnames   = [songname + \"_mix.csv\",\n",
    "                songname + \"_S.csv\",\n",
    "                songname + \"_A.csv\",\n",
    "                songname + \"_T.csv\",\n",
    "                songname + \"_B.csv\"] \n",
    "    keynames = ['mix', 'soprano', 'alto',\n",
    "                'tenor', 'bass']\n",
    "    savename = h5_pathname + \"Files/\" + songname_conformity + \".h5\"\n",
    "    try:\n",
    "        for i in range(len(keynames)):\n",
    "            df = csv_to_df(fnames[i])\n",
    "            df_to_hdf5(df, savename, keynames[i])\n",
    "    except:\n",
    "        print(f\"Problematic file: {songname}\")\n",
    "        if(os.path.exists(savename)):\n",
    "            os.remove(savename)"
   ]
  },
  {
   "cell_type": "code",
   "execution_count": 9,
   "metadata": {},
   "outputs": [],
   "source": [
    "def sscs_plot(dataframe):\n",
    "\n",
    "    aspect_ratio = (3/8)*dataframe.shape[1]/dataframe.shape[0]\n",
    "    fig, ax = plt.subplots(figsize=(13, 7))\n",
    "    im = ax.imshow(dataframe, interpolation='nearest', aspect=aspect_ratio,\n",
    "        cmap = mpl.colormaps['BuPu'])\n",
    "    ax.invert_yaxis()\n",
    "    plt.show()"
   ]
  },
  {
   "cell_type": "code",
   "execution_count": 10,
   "metadata": {},
   "outputs": [
    {
     "data": {
      "text/plain": [
       "'\\nconv_train = [csv_to_hdf5.options(memory=MAX_MEM).remote(train[i],\\n    train_conformity[i]) for i in range(len(train))]\\n\\nray.get(conv_train)\\n'"
      ]
     },
     "execution_count": 10,
     "metadata": {},
     "output_type": "execute_result"
    }
   ],
   "source": [
    "'''\n",
    "conv_train = [csv_to_hdf5.options(memory=MAX_MEM).remote(train[i],\n",
    "    train_conformity[i]) for i in range(len(train))]\n",
    "\n",
    "ray.get(conv_train)\n",
    "'''"
   ]
  },
  {
   "cell_type": "code",
   "execution_count": 11,
   "metadata": {},
   "outputs": [
    {
     "name": "stdout",
     "output_type": "stream",
     "text": [
      "\u001b[2m\u001b[36m(csv_to_hdf5 pid=4692)\u001b[0m Problematic file:\n",
      "\u001b[2m\u001b[36m(csv_to_hdf5 pid=4692)\u001b[0m Non ti contristi (Benedetto Marcello)\n",
      "\u001b[2m\u001b[36m(csv_to_hdf5 pid=4692)\u001b[0m \n",
      "\u001b[2m\u001b[36m(csv_to_hdf5 pid=4692)\u001b[0m \n",
      "\u001b[2m\u001b[36m(csv_to_hdf5 pid=14424)\u001b[0m Gloria, RV 589 (Antonio Vivaldi)\n",
      "\u001b[2m\u001b[36m(csv_to_hdf5 pid=14424)\u001b[0m \n",
      "\u001b[2m\u001b[36m(csv_to_hdf5 pid=14424)\u001b[0m \u001b[32m [repeated 2x across cluster] (Ray deduplicates logs by default. Set RAY_DEDUP_LOGS=0 to disable log deduplication, or see https://docs.ray.io/en/master/ray-observability/ray-logging.html#log-deduplication for more options.)\u001b[0m\n",
      "\u001b[2m\u001b[36m(csv_to_hdf5 pid=4692)\u001b[0m Problematic file:\n",
      "\u001b[2m\u001b[36m(csv_to_hdf5 pid=4692)\u001b[0m Missa Ancor che col partire (Philippe de Monte)\n",
      "\u001b[2m\u001b[36m(csv_to_hdf5 pid=4692)\u001b[0m \u001b[32m [repeated 2x across cluster]\u001b[0m\n",
      "\u001b[2m\u001b[36m(csv_to_hdf5 pid=12744)\u001b[0m Missa Iste Confessor (Giovanni Pierluigi da Palestrina)\n",
      "\u001b[2m\u001b[36m(csv_to_hdf5 pid=12744)\u001b[0m \n",
      "\u001b[2m\u001b[36m(csv_to_hdf5 pid=12744)\u001b[0m \u001b[32m [repeated 2x across cluster]\u001b[0m\n",
      "\u001b[2m\u001b[36m(csv_to_hdf5 pid=14424)\u001b[0m Problematic file:\n",
      "\u001b[2m\u001b[36m(csv_to_hdf5 pid=14424)\u001b[0m St Mark Passion (Orlando di Lasso)\n",
      "\u001b[2m\u001b[36m(csv_to_hdf5 pid=14424)\u001b[0m \u001b[32m [repeated 2x across cluster]\u001b[0m\n"
     ]
    },
    {
     "ename": "KeyboardInterrupt",
     "evalue": "",
     "output_type": "error",
     "traceback": [
      "\u001b[1;31m---------------------------------------------------------------------------\u001b[0m",
      "\u001b[1;31mKeyboardInterrupt\u001b[0m                         Traceback (most recent call last)",
      "Cell \u001b[1;32mIn[11], line 4\u001b[0m\n\u001b[0;32m      1\u001b[0m conv_val \u001b[39m=\u001b[39m [csv_to_hdf5\u001b[39m.\u001b[39moptions(memory\u001b[39m=\u001b[39mMAX_MEM)\u001b[39m.\u001b[39mremote(validate[i],\n\u001b[0;32m      2\u001b[0m     validate_conformity[i]) \u001b[39mfor\u001b[39;00m i \u001b[39min\u001b[39;00m \u001b[39mrange\u001b[39m(\u001b[39mlen\u001b[39m(validate))]\n\u001b[1;32m----> 4\u001b[0m ray\u001b[39m.\u001b[39;49mget(conv_val)\n",
      "File \u001b[1;32me:\\Programas\\Anaconda\\envs\\tf\\lib\\site-packages\\ray\\_private\\client_mode_hook.py:105\u001b[0m, in \u001b[0;36mclient_mode_hook.<locals>.wrapper\u001b[1;34m(*args, **kwargs)\u001b[0m\n\u001b[0;32m    103\u001b[0m     \u001b[39mif\u001b[39;00m func\u001b[39m.\u001b[39m\u001b[39m__name__\u001b[39m \u001b[39m!=\u001b[39m \u001b[39m\"\u001b[39m\u001b[39minit\u001b[39m\u001b[39m\"\u001b[39m \u001b[39mor\u001b[39;00m is_client_mode_enabled_by_default:\n\u001b[0;32m    104\u001b[0m         \u001b[39mreturn\u001b[39;00m \u001b[39mgetattr\u001b[39m(ray, func\u001b[39m.\u001b[39m\u001b[39m__name__\u001b[39m)(\u001b[39m*\u001b[39margs, \u001b[39m*\u001b[39m\u001b[39m*\u001b[39mkwargs)\n\u001b[1;32m--> 105\u001b[0m \u001b[39mreturn\u001b[39;00m func(\u001b[39m*\u001b[39margs, \u001b[39m*\u001b[39m\u001b[39m*\u001b[39mkwargs)\n",
      "File \u001b[1;32me:\\Programas\\Anaconda\\envs\\tf\\lib\\site-packages\\ray\\_private\\worker.py:2515\u001b[0m, in \u001b[0;36mget\u001b[1;34m(object_refs, timeout)\u001b[0m\n\u001b[0;32m   2510\u001b[0m     \u001b[39mraise\u001b[39;00m \u001b[39mValueError\u001b[39;00m(\n\u001b[0;32m   2511\u001b[0m         \u001b[39m\"\u001b[39m\u001b[39m'\u001b[39m\u001b[39mobject_refs\u001b[39m\u001b[39m'\u001b[39m\u001b[39m must either be an ObjectRef or a list of ObjectRefs.\u001b[39m\u001b[39m\"\u001b[39m\n\u001b[0;32m   2512\u001b[0m     )\n\u001b[0;32m   2514\u001b[0m \u001b[39m# TODO(ujvl): Consider how to allow user to retrieve the ready objects.\u001b[39;00m\n\u001b[1;32m-> 2515\u001b[0m values, debugger_breakpoint \u001b[39m=\u001b[39m worker\u001b[39m.\u001b[39;49mget_objects(object_refs, timeout\u001b[39m=\u001b[39;49mtimeout)\n\u001b[0;32m   2516\u001b[0m \u001b[39mfor\u001b[39;00m i, value \u001b[39min\u001b[39;00m \u001b[39menumerate\u001b[39m(values):\n\u001b[0;32m   2517\u001b[0m     \u001b[39mif\u001b[39;00m \u001b[39misinstance\u001b[39m(value, RayError):\n",
      "File \u001b[1;32me:\\Programas\\Anaconda\\envs\\tf\\lib\\site-packages\\ray\\_private\\worker.py:742\u001b[0m, in \u001b[0;36mWorker.get_objects\u001b[1;34m(self, object_refs, timeout)\u001b[0m\n\u001b[0;32m    736\u001b[0m         \u001b[39mraise\u001b[39;00m \u001b[39mTypeError\u001b[39;00m(\n\u001b[0;32m    737\u001b[0m             \u001b[39mf\u001b[39m\u001b[39m\"\u001b[39m\u001b[39mAttempting to call `get` on the value \u001b[39m\u001b[39m{\u001b[39;00mobject_ref\u001b[39m}\u001b[39;00m\u001b[39m, \u001b[39m\u001b[39m\"\u001b[39m\n\u001b[0;32m    738\u001b[0m             \u001b[39m\"\u001b[39m\u001b[39mwhich is not an ray.ObjectRef.\u001b[39m\u001b[39m\"\u001b[39m\n\u001b[0;32m    739\u001b[0m         )\n\u001b[0;32m    741\u001b[0m timeout_ms \u001b[39m=\u001b[39m \u001b[39mint\u001b[39m(timeout \u001b[39m*\u001b[39m \u001b[39m1000\u001b[39m) \u001b[39mif\u001b[39;00m timeout \u001b[39melse\u001b[39;00m \u001b[39m-\u001b[39m\u001b[39m1\u001b[39m\n\u001b[1;32m--> 742\u001b[0m data_metadata_pairs \u001b[39m=\u001b[39m \u001b[39mself\u001b[39;49m\u001b[39m.\u001b[39;49mcore_worker\u001b[39m.\u001b[39;49mget_objects(\n\u001b[0;32m    743\u001b[0m     object_refs, \u001b[39mself\u001b[39;49m\u001b[39m.\u001b[39;49mcurrent_task_id, timeout_ms\n\u001b[0;32m    744\u001b[0m )\n\u001b[0;32m    745\u001b[0m debugger_breakpoint \u001b[39m=\u001b[39m \u001b[39mb\u001b[39m\u001b[39m\"\u001b[39m\u001b[39m\"\u001b[39m\n\u001b[0;32m    746\u001b[0m \u001b[39mfor\u001b[39;00m (data, metadata) \u001b[39min\u001b[39;00m data_metadata_pairs:\n",
      "File \u001b[1;32mpython\\ray\\_raylet.pyx:1664\u001b[0m, in \u001b[0;36mray._raylet.CoreWorker.get_objects\u001b[1;34m()\u001b[0m\n",
      "File \u001b[1;32mpython\\ray\\_raylet.pyx:201\u001b[0m, in \u001b[0;36mray._raylet.check_status\u001b[1;34m()\u001b[0m\n",
      "\u001b[1;31mKeyboardInterrupt\u001b[0m: "
     ]
    }
   ],
   "source": [
    "conv_val = [csv_to_hdf5.options(memory=MAX_MEM).remote(validate[i],\n",
    "    validate_conformity[i]) for i in range(len(validate))]\n",
    "\n",
    "conv_val_get = ray.get(conv_val)\n",
    "print(\"Done.\")"
   ]
  },
  {
   "cell_type": "code",
   "execution_count": null,
   "metadata": {},
   "outputs": [],
   "source": [
    "'''\n",
    "conv_test = [csv_to_hdf5.options(memory=MAX_MEM).remote(test[i],\n",
    "    test_conformity[i]) for i in range(len(test))]\n",
    "\n",
    "ray.get(conv_test)\n",
    "'''"
   ]
  }
 ],
 "metadata": {
  "kernelspec": {
   "display_name": "Python 3",
   "language": "python",
   "name": "python3"
  },
  "language_info": {
   "codemirror_mode": {
    "name": "ipython",
    "version": 3
   },
   "file_extension": ".py",
   "mimetype": "text/x-python",
   "name": "python",
   "nbconvert_exporter": "python",
   "pygments_lexer": "ipython3",
   "version": "3.10.11"
  },
  "orig_nbformat": 4
 },
 "nbformat": 4,
 "nbformat_minor": 2
}
