{
 "cells": [
  {
   "attachments": {},
   "cell_type": "markdown",
   "metadata": {},
   "source": [
    "# **SSCS - Test Playground**\n",
    "Developed by André Paiva"
   ]
  },
  {
   "attachments": {},
   "cell_type": "markdown",
   "metadata": {},
   "source": [
    "## 01 - Import modules"
   ]
  },
  {
   "cell_type": "code",
   "execution_count": null,
   "metadata": {},
   "outputs": [],
   "source": [
    "import os\n",
    "import numpy as np\n",
    "import pandas as pd\n",
    "import zipfile\n",
    "import matplotlib.pyplot as plt\n",
    "from urllib.request import urlopen\n",
    "import shutil"
   ]
  },
  {
   "attachments": {},
   "cell_type": "markdown",
   "metadata": {},
   "source": [
    "## 02 - Auxiliar functions\n",
    "\n",
    "Functions designed to manipulate the SSCS dataset."
   ]
  },
  {
   "cell_type": "code",
   "execution_count": null,
   "metadata": {},
   "outputs": [],
   "source": [
    "pathname = \"Datasets\"\n",
    "zipname = pathname + \"/SynthSalienceChoralSet_v1.zip\"\n",
    "\n",
    "def sscs_download():\n",
    "    if(not os.path.exists(pathname)):\n",
    "        os.mkdir(pathname)\n",
    "    if(not os.path.exists(zipname)):\n",
    "        url = \"https://zenodo.org/record/6534429/files/SynthSalienceChoralSet_v1.zip?download=1\"\n",
    "        with urlopen(url) as response, open(zipname, 'wb') as out_file:\n",
    "            shutil.copyfileobj(response, out_file)\n",
    "\n",
    "def sscs_read_metadata():\n",
    "    with zipfile.ZipFile(zipname) as zf:\n",
    "        with zf.open('sscs_metadata.csv') as f:\n",
    "            df = pd.read_csv(f)\n",
    "            return df\n",
    "\n",
    "def sscs_read_voice(name, voice):\n",
    "    filename = 'sscs/' + name + \"_\"\n",
    "    if(voice.upper() == 'S' or voice.upper() == 'A' or \\\n",
    "       voice.upper() == 'T' or voice.upper() == 'B'):\n",
    "        filename = filename + voice.upper()\n",
    "    elif(voice.lower() == 'mix'):\n",
    "        filename = filename + voice.lower()\n",
    "    else:\n",
    "        raise NameError(\"Specify voice with 'S', 'A', 'T', 'B' or 'mix'.\")\n",
    "    filename = filename + \".csv\"\n",
    "    with zipfile.ZipFile(zipname) as zf:\n",
    "        with zf.open(filename) as f:\n",
    "            df = pd.read_csv(f, header=None)\n",
    "    return df\n",
    "\n",
    "def sscs_pick_random_song():\n",
    "    df_metadata = sscs_read_metadata()\n",
    "    rng = np.random.randint(0, df_metadata.shape[0])\n",
    "    return df_metadata.get(\"Song name\")[rng]\n",
    "\n",
    "def sscs_read_all_voices(name):\n",
    "    df_mix = sscs_read_voice(name, 'mix')\n",
    "    df_s = sscs_read_voice(name, 'S')\n",
    "    df_a = sscs_read_voice(name, 'A')\n",
    "    df_t = sscs_read_voice(name, 'T')\n",
    "    df_b = sscs_read_voice(name, 'B')\n",
    "    return df_mix, df_s, df_a, df_t, df_b\n",
    "\n",
    "def sscs_plot(dataframe):\n",
    "  aspect_ratio = (3/8)*dataframe.shape[1]/dataframe.shape[0]\n",
    "  fig, ax = plt.subplots(figsize=(13, 7))\n",
    "  im = ax.imshow(dataframe, interpolation='nearest', aspect=aspect_ratio)\n",
    "  plt.show()"
   ]
  },
  {
   "attachments": {},
   "cell_type": "markdown",
   "metadata": {},
   "source": [
    "## 03 - Download dataset SSCS"
   ]
  },
  {
   "cell_type": "code",
   "execution_count": null,
   "metadata": {},
   "outputs": [],
   "source": [
    "sscs_download()"
   ]
  },
  {
   "attachments": {},
   "cell_type": "markdown",
   "metadata": {},
   "source": [
    "## 04 - Pick random song and plot mix pitch saliences"
   ]
  },
  {
   "cell_type": "code",
   "execution_count": null,
   "metadata": {},
   "outputs": [],
   "source": [
    "song = sscs_pick_random_song()\n",
    "df_song_mix = sscs_read_voice(song, 'mix')\n",
    "sscs_plot(df_song_mix)\n",
    "print(df_song_mix.shape)\n",
    "del(df_song_mix)"
   ]
  }
 ],
 "metadata": {
  "kernelspec": {
   "display_name": "Python 3",
   "language": "python",
   "name": "python3"
  },
  "language_info": {
   "codemirror_mode": {
    "name": "ipython",
    "version": 3
   },
   "file_extension": ".py",
   "mimetype": "text/x-python",
   "name": "python",
   "nbconvert_exporter": "python",
   "pygments_lexer": "ipython3",
   "version": "3.10.11"
  },
  "orig_nbformat": 4
 },
 "nbformat": 4,
 "nbformat_minor": 2
}
